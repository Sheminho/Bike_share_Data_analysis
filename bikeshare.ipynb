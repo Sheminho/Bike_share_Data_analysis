{
 "cells": [
  {
   "cell_type": "markdown",
   "id": "560c4057",
   "metadata": {},
   "source": [
    "# importing"
   ]
  },
  {
   "cell_type": "code",
   "execution_count": 1,
   "id": "197ce814",
   "metadata": {},
   "outputs": [],
   "source": [
    "import pandas as pd\n",
    "import numpy as np\n",
    "import matplotlib.pyplot as plt\n",
    "%matplotlib inline\n",
    "from datetime import datetime"
   ]
  },
  {
   "cell_type": "markdown",
   "id": "0e1a6050",
   "metadata": {},
   "source": [
    "# Data Wrangling\n",
    "## Data Gathering"
   ]
  },
  {
   "cell_type": "code",
   "execution_count": 2,
   "id": "0cace79f",
   "metadata": {},
   "outputs": [],
   "source": [
    "df_chic = pd.read_csv('chicago.csv')\n",
    "df_ny = pd.read_csv('nyc.csv')\n",
    "df_wash = pd.read_csv('washington.csv')"
   ]
  },
  {
   "cell_type": "markdown",
   "id": "7c0a1c9f",
   "metadata": {},
   "source": [
    "## Data Assessing"
   ]
  },
  {
   "cell_type": "code",
   "execution_count": 3,
   "id": "7e25c8f3",
   "metadata": {
    "scrolled": false
   },
   "outputs": [
    {
     "data": {
      "text/html": [
       "<div>\n",
       "<style scoped>\n",
       "    .dataframe tbody tr th:only-of-type {\n",
       "        vertical-align: middle;\n",
       "    }\n",
       "\n",
       "    .dataframe tbody tr th {\n",
       "        vertical-align: top;\n",
       "    }\n",
       "\n",
       "    .dataframe thead th {\n",
       "        text-align: right;\n",
       "    }\n",
       "</style>\n",
       "<table border=\"1\" class=\"dataframe\">\n",
       "  <thead>\n",
       "    <tr style=\"text-align: right;\">\n",
       "      <th></th>\n",
       "      <th>Unnamed: 0</th>\n",
       "      <th>Start Time</th>\n",
       "      <th>End Time</th>\n",
       "      <th>Trip Duration</th>\n",
       "      <th>Start Station</th>\n",
       "      <th>End Station</th>\n",
       "      <th>User Type</th>\n",
       "      <th>Gender</th>\n",
       "      <th>Birth Year</th>\n",
       "    </tr>\n",
       "  </thead>\n",
       "  <tbody>\n",
       "    <tr>\n",
       "      <th>0</th>\n",
       "      <td>1423854</td>\n",
       "      <td>2017-06-23 15:09:32</td>\n",
       "      <td>2017-06-23 15:14:53</td>\n",
       "      <td>321</td>\n",
       "      <td>Wood St &amp; Hubbard St</td>\n",
       "      <td>Damen Ave &amp; Chicago Ave</td>\n",
       "      <td>Subscriber</td>\n",
       "      <td>Male</td>\n",
       "      <td>1992.0</td>\n",
       "    </tr>\n",
       "    <tr>\n",
       "      <th>1</th>\n",
       "      <td>955915</td>\n",
       "      <td>2017-05-25 18:19:03</td>\n",
       "      <td>2017-05-25 18:45:53</td>\n",
       "      <td>1610</td>\n",
       "      <td>Theater on the Lake</td>\n",
       "      <td>Sheffield Ave &amp; Waveland Ave</td>\n",
       "      <td>Subscriber</td>\n",
       "      <td>Female</td>\n",
       "      <td>1992.0</td>\n",
       "    </tr>\n",
       "    <tr>\n",
       "      <th>2</th>\n",
       "      <td>9031</td>\n",
       "      <td>2017-01-04 08:27:49</td>\n",
       "      <td>2017-01-04 08:34:45</td>\n",
       "      <td>416</td>\n",
       "      <td>May St &amp; Taylor St</td>\n",
       "      <td>Wood St &amp; Taylor St</td>\n",
       "      <td>Subscriber</td>\n",
       "      <td>Male</td>\n",
       "      <td>1981.0</td>\n",
       "    </tr>\n",
       "    <tr>\n",
       "      <th>3</th>\n",
       "      <td>304487</td>\n",
       "      <td>2017-03-06 13:49:38</td>\n",
       "      <td>2017-03-06 13:55:28</td>\n",
       "      <td>350</td>\n",
       "      <td>Christiana Ave &amp; Lawrence Ave</td>\n",
       "      <td>St. Louis Ave &amp; Balmoral Ave</td>\n",
       "      <td>Subscriber</td>\n",
       "      <td>Male</td>\n",
       "      <td>1986.0</td>\n",
       "    </tr>\n",
       "    <tr>\n",
       "      <th>4</th>\n",
       "      <td>45207</td>\n",
       "      <td>2017-01-17 14:53:07</td>\n",
       "      <td>2017-01-17 15:02:01</td>\n",
       "      <td>534</td>\n",
       "      <td>Clark St &amp; Randolph St</td>\n",
       "      <td>Desplaines St &amp; Jackson Blvd</td>\n",
       "      <td>Subscriber</td>\n",
       "      <td>Male</td>\n",
       "      <td>1975.0</td>\n",
       "    </tr>\n",
       "  </tbody>\n",
       "</table>\n",
       "</div>"
      ],
      "text/plain": [
       "   Unnamed: 0           Start Time             End Time  Trip Duration  \\\n",
       "0     1423854  2017-06-23 15:09:32  2017-06-23 15:14:53            321   \n",
       "1      955915  2017-05-25 18:19:03  2017-05-25 18:45:53           1610   \n",
       "2        9031  2017-01-04 08:27:49  2017-01-04 08:34:45            416   \n",
       "3      304487  2017-03-06 13:49:38  2017-03-06 13:55:28            350   \n",
       "4       45207  2017-01-17 14:53:07  2017-01-17 15:02:01            534   \n",
       "\n",
       "                   Start Station                   End Station   User Type  \\\n",
       "0           Wood St & Hubbard St       Damen Ave & Chicago Ave  Subscriber   \n",
       "1            Theater on the Lake  Sheffield Ave & Waveland Ave  Subscriber   \n",
       "2             May St & Taylor St           Wood St & Taylor St  Subscriber   \n",
       "3  Christiana Ave & Lawrence Ave  St. Louis Ave & Balmoral Ave  Subscriber   \n",
       "4         Clark St & Randolph St  Desplaines St & Jackson Blvd  Subscriber   \n",
       "\n",
       "   Gender  Birth Year  \n",
       "0    Male      1992.0  \n",
       "1  Female      1992.0  \n",
       "2    Male      1981.0  \n",
       "3    Male      1986.0  \n",
       "4    Male      1975.0  "
      ]
     },
     "execution_count": 3,
     "metadata": {},
     "output_type": "execute_result"
    }
   ],
   "source": [
    "df_chic.head()"
   ]
  },
  {
   "cell_type": "code",
   "execution_count": 4,
   "id": "28e1dedd",
   "metadata": {},
   "outputs": [
    {
     "data": {
      "text/html": [
       "<div>\n",
       "<style scoped>\n",
       "    .dataframe tbody tr th:only-of-type {\n",
       "        vertical-align: middle;\n",
       "    }\n",
       "\n",
       "    .dataframe tbody tr th {\n",
       "        vertical-align: top;\n",
       "    }\n",
       "\n",
       "    .dataframe thead th {\n",
       "        text-align: right;\n",
       "    }\n",
       "</style>\n",
       "<table border=\"1\" class=\"dataframe\">\n",
       "  <thead>\n",
       "    <tr style=\"text-align: right;\">\n",
       "      <th></th>\n",
       "      <th>Unnamed: 0</th>\n",
       "      <th>Start Time</th>\n",
       "      <th>End Time</th>\n",
       "      <th>Trip Duration</th>\n",
       "      <th>Start Station</th>\n",
       "      <th>End Station</th>\n",
       "      <th>User Type</th>\n",
       "      <th>Gender</th>\n",
       "      <th>Birth Year</th>\n",
       "    </tr>\n",
       "  </thead>\n",
       "  <tbody>\n",
       "    <tr>\n",
       "      <th>0</th>\n",
       "      <td>5688089</td>\n",
       "      <td>2017-06-11 14:55:05</td>\n",
       "      <td>2017-06-11 15:08:21</td>\n",
       "      <td>795</td>\n",
       "      <td>Suffolk St &amp; Stanton St</td>\n",
       "      <td>W Broadway &amp; Spring St</td>\n",
       "      <td>Subscriber</td>\n",
       "      <td>Male</td>\n",
       "      <td>1998.0</td>\n",
       "    </tr>\n",
       "    <tr>\n",
       "      <th>1</th>\n",
       "      <td>4096714</td>\n",
       "      <td>2017-05-11 15:30:11</td>\n",
       "      <td>2017-05-11 15:41:43</td>\n",
       "      <td>692</td>\n",
       "      <td>Lexington Ave &amp; E 63 St</td>\n",
       "      <td>1 Ave &amp; E 78 St</td>\n",
       "      <td>Subscriber</td>\n",
       "      <td>Male</td>\n",
       "      <td>1981.0</td>\n",
       "    </tr>\n",
       "    <tr>\n",
       "      <th>2</th>\n",
       "      <td>2173887</td>\n",
       "      <td>2017-03-29 13:26:26</td>\n",
       "      <td>2017-03-29 13:48:31</td>\n",
       "      <td>1325</td>\n",
       "      <td>1 Pl &amp; Clinton St</td>\n",
       "      <td>Henry St &amp; Degraw St</td>\n",
       "      <td>Subscriber</td>\n",
       "      <td>Male</td>\n",
       "      <td>1987.0</td>\n",
       "    </tr>\n",
       "    <tr>\n",
       "      <th>3</th>\n",
       "      <td>3945638</td>\n",
       "      <td>2017-05-08 19:47:18</td>\n",
       "      <td>2017-05-08 19:59:01</td>\n",
       "      <td>703</td>\n",
       "      <td>Barrow St &amp; Hudson St</td>\n",
       "      <td>W 20 St &amp; 8 Ave</td>\n",
       "      <td>Subscriber</td>\n",
       "      <td>Female</td>\n",
       "      <td>1986.0</td>\n",
       "    </tr>\n",
       "    <tr>\n",
       "      <th>4</th>\n",
       "      <td>6208972</td>\n",
       "      <td>2017-06-21 07:49:16</td>\n",
       "      <td>2017-06-21 07:54:46</td>\n",
       "      <td>329</td>\n",
       "      <td>1 Ave &amp; E 44 St</td>\n",
       "      <td>E 53 St &amp; 3 Ave</td>\n",
       "      <td>Subscriber</td>\n",
       "      <td>Male</td>\n",
       "      <td>1992.0</td>\n",
       "    </tr>\n",
       "  </tbody>\n",
       "</table>\n",
       "</div>"
      ],
      "text/plain": [
       "   Unnamed: 0           Start Time             End Time  Trip Duration  \\\n",
       "0     5688089  2017-06-11 14:55:05  2017-06-11 15:08:21            795   \n",
       "1     4096714  2017-05-11 15:30:11  2017-05-11 15:41:43            692   \n",
       "2     2173887  2017-03-29 13:26:26  2017-03-29 13:48:31           1325   \n",
       "3     3945638  2017-05-08 19:47:18  2017-05-08 19:59:01            703   \n",
       "4     6208972  2017-06-21 07:49:16  2017-06-21 07:54:46            329   \n",
       "\n",
       "             Start Station             End Station   User Type  Gender  \\\n",
       "0  Suffolk St & Stanton St  W Broadway & Spring St  Subscriber    Male   \n",
       "1  Lexington Ave & E 63 St         1 Ave & E 78 St  Subscriber    Male   \n",
       "2        1 Pl & Clinton St    Henry St & Degraw St  Subscriber    Male   \n",
       "3    Barrow St & Hudson St         W 20 St & 8 Ave  Subscriber  Female   \n",
       "4          1 Ave & E 44 St         E 53 St & 3 Ave  Subscriber    Male   \n",
       "\n",
       "   Birth Year  \n",
       "0      1998.0  \n",
       "1      1981.0  \n",
       "2      1987.0  \n",
       "3      1986.0  \n",
       "4      1992.0  "
      ]
     },
     "execution_count": 4,
     "metadata": {},
     "output_type": "execute_result"
    }
   ],
   "source": [
    "df_ny.head()"
   ]
  },
  {
   "cell_type": "code",
   "execution_count": 5,
   "id": "60975b52",
   "metadata": {
    "scrolled": true
   },
   "outputs": [
    {
     "data": {
      "text/html": [
       "<div>\n",
       "<style scoped>\n",
       "    .dataframe tbody tr th:only-of-type {\n",
       "        vertical-align: middle;\n",
       "    }\n",
       "\n",
       "    .dataframe tbody tr th {\n",
       "        vertical-align: top;\n",
       "    }\n",
       "\n",
       "    .dataframe thead th {\n",
       "        text-align: right;\n",
       "    }\n",
       "</style>\n",
       "<table border=\"1\" class=\"dataframe\">\n",
       "  <thead>\n",
       "    <tr style=\"text-align: right;\">\n",
       "      <th></th>\n",
       "      <th>Unnamed: 0</th>\n",
       "      <th>Start Time</th>\n",
       "      <th>End Time</th>\n",
       "      <th>Trip Duration</th>\n",
       "      <th>Start Station</th>\n",
       "      <th>End Station</th>\n",
       "      <th>User Type</th>\n",
       "    </tr>\n",
       "  </thead>\n",
       "  <tbody>\n",
       "    <tr>\n",
       "      <th>0</th>\n",
       "      <td>1621326</td>\n",
       "      <td>2017-06-21 08:36:34</td>\n",
       "      <td>2017-06-21 08:44:43</td>\n",
       "      <td>489.066</td>\n",
       "      <td>14th &amp; Belmont St NW</td>\n",
       "      <td>15th &amp; K St NW</td>\n",
       "      <td>Subscriber</td>\n",
       "    </tr>\n",
       "    <tr>\n",
       "      <th>1</th>\n",
       "      <td>482740</td>\n",
       "      <td>2017-03-11 10:40:00</td>\n",
       "      <td>2017-03-11 10:46:00</td>\n",
       "      <td>402.549</td>\n",
       "      <td>Yuma St &amp; Tenley Circle NW</td>\n",
       "      <td>Connecticut Ave &amp; Yuma St NW</td>\n",
       "      <td>Subscriber</td>\n",
       "    </tr>\n",
       "    <tr>\n",
       "      <th>2</th>\n",
       "      <td>1330037</td>\n",
       "      <td>2017-05-30 01:02:59</td>\n",
       "      <td>2017-05-30 01:13:37</td>\n",
       "      <td>637.251</td>\n",
       "      <td>17th St &amp; Massachusetts Ave NW</td>\n",
       "      <td>5th &amp; K St NW</td>\n",
       "      <td>Subscriber</td>\n",
       "    </tr>\n",
       "    <tr>\n",
       "      <th>3</th>\n",
       "      <td>665458</td>\n",
       "      <td>2017-04-02 07:48:35</td>\n",
       "      <td>2017-04-02 08:19:03</td>\n",
       "      <td>1827.341</td>\n",
       "      <td>Constitution Ave &amp; 2nd St NW/DOL</td>\n",
       "      <td>M St &amp; Pennsylvania Ave NW</td>\n",
       "      <td>Customer</td>\n",
       "    </tr>\n",
       "    <tr>\n",
       "      <th>4</th>\n",
       "      <td>1481135</td>\n",
       "      <td>2017-06-10 08:36:28</td>\n",
       "      <td>2017-06-10 09:02:17</td>\n",
       "      <td>1549.427</td>\n",
       "      <td>Henry Bacon Dr &amp; Lincoln Memorial Circle NW</td>\n",
       "      <td>Maine Ave &amp; 7th St SW</td>\n",
       "      <td>Subscriber</td>\n",
       "    </tr>\n",
       "  </tbody>\n",
       "</table>\n",
       "</div>"
      ],
      "text/plain": [
       "   Unnamed: 0           Start Time             End Time  Trip Duration  \\\n",
       "0     1621326  2017-06-21 08:36:34  2017-06-21 08:44:43        489.066   \n",
       "1      482740  2017-03-11 10:40:00  2017-03-11 10:46:00        402.549   \n",
       "2     1330037  2017-05-30 01:02:59  2017-05-30 01:13:37        637.251   \n",
       "3      665458  2017-04-02 07:48:35  2017-04-02 08:19:03       1827.341   \n",
       "4     1481135  2017-06-10 08:36:28  2017-06-10 09:02:17       1549.427   \n",
       "\n",
       "                                 Start Station                   End Station  \\\n",
       "0                         14th & Belmont St NW                15th & K St NW   \n",
       "1                   Yuma St & Tenley Circle NW  Connecticut Ave & Yuma St NW   \n",
       "2               17th St & Massachusetts Ave NW                 5th & K St NW   \n",
       "3             Constitution Ave & 2nd St NW/DOL    M St & Pennsylvania Ave NW   \n",
       "4  Henry Bacon Dr & Lincoln Memorial Circle NW         Maine Ave & 7th St SW   \n",
       "\n",
       "    User Type  \n",
       "0  Subscriber  \n",
       "1  Subscriber  \n",
       "2  Subscriber  \n",
       "3    Customer  \n",
       "4  Subscriber  "
      ]
     },
     "execution_count": 5,
     "metadata": {},
     "output_type": "execute_result"
    }
   ],
   "source": [
    "df_wash.head()"
   ]
  },
  {
   "cell_type": "code",
   "execution_count": 6,
   "id": "8fb973a7",
   "metadata": {
    "scrolled": true
   },
   "outputs": [
    {
     "name": "stdout",
     "output_type": "stream",
     "text": [
      "<class 'pandas.core.frame.DataFrame'>\n",
      "RangeIndex: 300000 entries, 0 to 299999\n",
      "Data columns (total 9 columns):\n",
      " #   Column         Non-Null Count   Dtype  \n",
      "---  ------         --------------   -----  \n",
      " 0   Unnamed: 0     300000 non-null  int64  \n",
      " 1   Start Time     300000 non-null  object \n",
      " 2   End Time       300000 non-null  object \n",
      " 3   Trip Duration  300000 non-null  int64  \n",
      " 4   Start Station  300000 non-null  object \n",
      " 5   End Station    300000 non-null  object \n",
      " 6   User Type      300000 non-null  object \n",
      " 7   Gender         238948 non-null  object \n",
      " 8   Birth Year     238981 non-null  float64\n",
      "dtypes: float64(1), int64(2), object(6)\n",
      "memory usage: 20.6+ MB\n"
     ]
    }
   ],
   "source": [
    "df_chic.info()"
   ]
  },
  {
   "cell_type": "code",
   "execution_count": 7,
   "id": "34b22fc7",
   "metadata": {},
   "outputs": [
    {
     "name": "stdout",
     "output_type": "stream",
     "text": [
      "<class 'pandas.core.frame.DataFrame'>\n",
      "RangeIndex: 300000 entries, 0 to 299999\n",
      "Data columns (total 9 columns):\n",
      " #   Column         Non-Null Count   Dtype  \n",
      "---  ------         --------------   -----  \n",
      " 0   Unnamed: 0     300000 non-null  int64  \n",
      " 1   Start Time     300000 non-null  object \n",
      " 2   End Time       300000 non-null  object \n",
      " 3   Trip Duration  300000 non-null  int64  \n",
      " 4   Start Station  300000 non-null  object \n",
      " 5   End Station    300000 non-null  object \n",
      " 6   User Type      299308 non-null  object \n",
      " 7   Gender         270791 non-null  object \n",
      " 8   Birth Year     271780 non-null  float64\n",
      "dtypes: float64(1), int64(2), object(6)\n",
      "memory usage: 20.6+ MB\n"
     ]
    }
   ],
   "source": [
    "df_ny.info()"
   ]
  },
  {
   "cell_type": "code",
   "execution_count": 8,
   "id": "ad629775",
   "metadata": {
    "scrolled": true
   },
   "outputs": [
    {
     "name": "stdout",
     "output_type": "stream",
     "text": [
      "<class 'pandas.core.frame.DataFrame'>\n",
      "RangeIndex: 300000 entries, 0 to 299999\n",
      "Data columns (total 7 columns):\n",
      " #   Column         Non-Null Count   Dtype  \n",
      "---  ------         --------------   -----  \n",
      " 0   Unnamed: 0     300000 non-null  int64  \n",
      " 1   Start Time     300000 non-null  object \n",
      " 2   End Time       300000 non-null  object \n",
      " 3   Trip Duration  300000 non-null  float64\n",
      " 4   Start Station  300000 non-null  object \n",
      " 5   End Station    300000 non-null  object \n",
      " 6   User Type      300000 non-null  object \n",
      "dtypes: float64(1), int64(1), object(5)\n",
      "memory usage: 16.0+ MB\n"
     ]
    }
   ],
   "source": [
    "df_wash.info()"
   ]
  },
  {
   "cell_type": "code",
   "execution_count": 9,
   "id": "9bed1a44",
   "metadata": {
    "scrolled": true
   },
   "outputs": [
    {
     "data": {
      "text/plain": [
       "0"
      ]
     },
     "execution_count": 9,
     "metadata": {},
     "output_type": "execute_result"
    }
   ],
   "source": [
    "df_chic.duplicated().sum()"
   ]
  },
  {
   "cell_type": "code",
   "execution_count": 10,
   "id": "d5900829",
   "metadata": {},
   "outputs": [
    {
     "data": {
      "text/plain": [
       "0"
      ]
     },
     "execution_count": 10,
     "metadata": {},
     "output_type": "execute_result"
    }
   ],
   "source": [
    "df_ny.duplicated().sum()"
   ]
  },
  {
   "cell_type": "code",
   "execution_count": 11,
   "id": "a4e50366",
   "metadata": {},
   "outputs": [
    {
     "data": {
      "text/plain": [
       "0"
      ]
     },
     "execution_count": 11,
     "metadata": {},
     "output_type": "execute_result"
    }
   ],
   "source": [
    "df_wash.duplicated().sum()"
   ]
  },
  {
   "cell_type": "markdown",
   "id": "bd309a5c",
   "metadata": {},
   "source": [
    "## Data Cleaning"
   ]
  },
  {
   "cell_type": "code",
   "execution_count": 12,
   "id": "1abeb487",
   "metadata": {
    "scrolled": true
   },
   "outputs": [],
   "source": [
    "df_chic.dropna(inplace=True)"
   ]
  },
  {
   "cell_type": "code",
   "execution_count": 13,
   "id": "7708f235",
   "metadata": {},
   "outputs": [],
   "source": [
    "df_ny.dropna(inplace=True)"
   ]
  },
  {
   "cell_type": "code",
   "execution_count": 14,
   "id": "3d59f8ac",
   "metadata": {},
   "outputs": [],
   "source": [
    "df_chic['Start Time'] = pd.to_datetime(df_chic['Start Time'])\n",
    "df_chic['End Time'] = pd.to_datetime(df_chic['End Time'])\n",
    "df_ny['End Time'] = pd.to_datetime(df_ny['End Time'])\n",
    "df_ny['Start Time'] = pd.to_datetime(df_ny['Start Time'])\n",
    "df_wash['Start Time'] = pd.to_datetime(df_wash['Start Time'])\n",
    "df_wash['End Time'] = pd.to_datetime(df_wash['End Time'])"
   ]
  },
  {
   "cell_type": "code",
   "execution_count": 15,
   "id": "87e11c04",
   "metadata": {},
   "outputs": [],
   "source": [
    "df_chic['State'] = 'Chicago'\n",
    "df_ny['State'] = 'New York'\n",
    "df_wash['State'] = 'washington'"
   ]
  },
  {
   "cell_type": "code",
   "execution_count": 16,
   "id": "d4326e07",
   "metadata": {},
   "outputs": [],
   "source": [
    "df_chic['Birth Year'] = df_chic['Birth Year'].astype(int)\n",
    "df_ny['Birth Year'] = df_ny['Birth Year'].astype(int)"
   ]
  },
  {
   "cell_type": "code",
   "execution_count": 17,
   "id": "4d8a5b41",
   "metadata": {},
   "outputs": [],
   "source": [
    "df = df_chic"
   ]
  },
  {
   "cell_type": "code",
   "execution_count": 18,
   "id": "dd4b40bd",
   "metadata": {
    "scrolled": true
   },
   "outputs": [
    {
     "name": "stderr",
     "output_type": "stream",
     "text": [
      "C:\\Users\\ip\\AppData\\Local\\Temp\\ipykernel_22648\\1007062906.py:1: FutureWarning: The frame.append method is deprecated and will be removed from pandas in a future version. Use pandas.concat instead.\n",
      "  df = df.append(df_ny)\n"
     ]
    }
   ],
   "source": [
    "df = df.append(df_ny)"
   ]
  },
  {
   "cell_type": "code",
   "execution_count": 19,
   "id": "ddb1c199",
   "metadata": {
    "scrolled": true
   },
   "outputs": [
    {
     "name": "stderr",
     "output_type": "stream",
     "text": [
      "C:\\Users\\ip\\AppData\\Local\\Temp\\ipykernel_22648\\2418393439.py:1: FutureWarning: The frame.append method is deprecated and will be removed from pandas in a future version. Use pandas.concat instead.\n",
      "  df = df.append(df_wash)\n"
     ]
    }
   ],
   "source": [
    "df = df.append(df_wash)"
   ]
  },
  {
   "cell_type": "code",
   "execution_count": 20,
   "id": "b0de5e72",
   "metadata": {
    "scrolled": true
   },
   "outputs": [
    {
     "name": "stdout",
     "output_type": "stream",
     "text": [
      "<class 'pandas.core.frame.DataFrame'>\n",
      "Int64Index: 809050 entries, 0 to 299999\n",
      "Data columns (total 10 columns):\n",
      " #   Column         Non-Null Count   Dtype         \n",
      "---  ------         --------------   -----         \n",
      " 0   Unnamed: 0     809050 non-null  int64         \n",
      " 1   Start Time     809050 non-null  datetime64[ns]\n",
      " 2   End Time       809050 non-null  datetime64[ns]\n",
      " 3   Trip Duration  809050 non-null  float64       \n",
      " 4   Start Station  809050 non-null  object        \n",
      " 5   End Station    809050 non-null  object        \n",
      " 6   User Type      809050 non-null  object        \n",
      " 7   Gender         509050 non-null  object        \n",
      " 8   Birth Year     509050 non-null  float64       \n",
      " 9   State          809050 non-null  object        \n",
      "dtypes: datetime64[ns](2), float64(2), int64(1), object(5)\n",
      "memory usage: 67.9+ MB\n"
     ]
    }
   ],
   "source": [
    "df.info()"
   ]
  },
  {
   "cell_type": "code",
   "execution_count": 21,
   "id": "7cbb2578",
   "metadata": {
    "scrolled": false
   },
   "outputs": [
    {
     "data": {
      "text/html": [
       "<div>\n",
       "<style scoped>\n",
       "    .dataframe tbody tr th:only-of-type {\n",
       "        vertical-align: middle;\n",
       "    }\n",
       "\n",
       "    .dataframe tbody tr th {\n",
       "        vertical-align: top;\n",
       "    }\n",
       "\n",
       "    .dataframe thead th {\n",
       "        text-align: right;\n",
       "    }\n",
       "</style>\n",
       "<table border=\"1\" class=\"dataframe\">\n",
       "  <thead>\n",
       "    <tr style=\"text-align: right;\">\n",
       "      <th></th>\n",
       "      <th>Unnamed: 0</th>\n",
       "      <th>Start Time</th>\n",
       "      <th>End Time</th>\n",
       "      <th>Trip Duration</th>\n",
       "      <th>Start Station</th>\n",
       "      <th>End Station</th>\n",
       "      <th>User Type</th>\n",
       "      <th>Gender</th>\n",
       "      <th>Birth Year</th>\n",
       "      <th>State</th>\n",
       "    </tr>\n",
       "  </thead>\n",
       "  <tbody>\n",
       "    <tr>\n",
       "      <th>0</th>\n",
       "      <td>1423854</td>\n",
       "      <td>2017-06-23 15:09:32</td>\n",
       "      <td>2017-06-23 15:14:53</td>\n",
       "      <td>321.0</td>\n",
       "      <td>Wood St &amp; Hubbard St</td>\n",
       "      <td>Damen Ave &amp; Chicago Ave</td>\n",
       "      <td>Subscriber</td>\n",
       "      <td>Male</td>\n",
       "      <td>1992.0</td>\n",
       "      <td>Chicago</td>\n",
       "    </tr>\n",
       "    <tr>\n",
       "      <th>1</th>\n",
       "      <td>955915</td>\n",
       "      <td>2017-05-25 18:19:03</td>\n",
       "      <td>2017-05-25 18:45:53</td>\n",
       "      <td>1610.0</td>\n",
       "      <td>Theater on the Lake</td>\n",
       "      <td>Sheffield Ave &amp; Waveland Ave</td>\n",
       "      <td>Subscriber</td>\n",
       "      <td>Female</td>\n",
       "      <td>1992.0</td>\n",
       "      <td>Chicago</td>\n",
       "    </tr>\n",
       "    <tr>\n",
       "      <th>2</th>\n",
       "      <td>9031</td>\n",
       "      <td>2017-01-04 08:27:49</td>\n",
       "      <td>2017-01-04 08:34:45</td>\n",
       "      <td>416.0</td>\n",
       "      <td>May St &amp; Taylor St</td>\n",
       "      <td>Wood St &amp; Taylor St</td>\n",
       "      <td>Subscriber</td>\n",
       "      <td>Male</td>\n",
       "      <td>1981.0</td>\n",
       "      <td>Chicago</td>\n",
       "    </tr>\n",
       "    <tr>\n",
       "      <th>3</th>\n",
       "      <td>304487</td>\n",
       "      <td>2017-03-06 13:49:38</td>\n",
       "      <td>2017-03-06 13:55:28</td>\n",
       "      <td>350.0</td>\n",
       "      <td>Christiana Ave &amp; Lawrence Ave</td>\n",
       "      <td>St. Louis Ave &amp; Balmoral Ave</td>\n",
       "      <td>Subscriber</td>\n",
       "      <td>Male</td>\n",
       "      <td>1986.0</td>\n",
       "      <td>Chicago</td>\n",
       "    </tr>\n",
       "    <tr>\n",
       "      <th>4</th>\n",
       "      <td>45207</td>\n",
       "      <td>2017-01-17 14:53:07</td>\n",
       "      <td>2017-01-17 15:02:01</td>\n",
       "      <td>534.0</td>\n",
       "      <td>Clark St &amp; Randolph St</td>\n",
       "      <td>Desplaines St &amp; Jackson Blvd</td>\n",
       "      <td>Subscriber</td>\n",
       "      <td>Male</td>\n",
       "      <td>1975.0</td>\n",
       "      <td>Chicago</td>\n",
       "    </tr>\n",
       "  </tbody>\n",
       "</table>\n",
       "</div>"
      ],
      "text/plain": [
       "   Unnamed: 0          Start Time            End Time  Trip Duration  \\\n",
       "0     1423854 2017-06-23 15:09:32 2017-06-23 15:14:53          321.0   \n",
       "1      955915 2017-05-25 18:19:03 2017-05-25 18:45:53         1610.0   \n",
       "2        9031 2017-01-04 08:27:49 2017-01-04 08:34:45          416.0   \n",
       "3      304487 2017-03-06 13:49:38 2017-03-06 13:55:28          350.0   \n",
       "4       45207 2017-01-17 14:53:07 2017-01-17 15:02:01          534.0   \n",
       "\n",
       "                   Start Station                   End Station   User Type  \\\n",
       "0           Wood St & Hubbard St       Damen Ave & Chicago Ave  Subscriber   \n",
       "1            Theater on the Lake  Sheffield Ave & Waveland Ave  Subscriber   \n",
       "2             May St & Taylor St           Wood St & Taylor St  Subscriber   \n",
       "3  Christiana Ave & Lawrence Ave  St. Louis Ave & Balmoral Ave  Subscriber   \n",
       "4         Clark St & Randolph St  Desplaines St & Jackson Blvd  Subscriber   \n",
       "\n",
       "   Gender  Birth Year    State  \n",
       "0    Male      1992.0  Chicago  \n",
       "1  Female      1992.0  Chicago  \n",
       "2    Male      1981.0  Chicago  \n",
       "3    Male      1986.0  Chicago  \n",
       "4    Male      1975.0  Chicago  "
      ]
     },
     "execution_count": 21,
     "metadata": {},
     "output_type": "execute_result"
    }
   ],
   "source": [
    "df.head()"
   ]
  },
  {
   "cell_type": "markdown",
   "id": "49573c74",
   "metadata": {},
   "source": [
    "# Data Exploration, Mining"
   ]
  },
  {
   "cell_type": "code",
   "execution_count": 22,
   "id": "25ad260a",
   "metadata": {
    "scrolled": false
   },
   "outputs": [
    {
     "data": {
      "text/plain": [
       "Columbus Circle / Union Station         5656\n",
       "Lincoln Memorial                        5043\n",
       "Jefferson Dr & 14th St SW               5022\n",
       "Clinton St & Washington Blvd            4197\n",
       "Massachusetts Ave & Dupont Circle NW    3946\n",
       "                                        ... \n",
       "Exchange Ave & 79th St                     1\n",
       "Halsted St & 69th St                       1\n",
       "MLK Jr Dr & 83rd St                        1\n",
       "Throop St & 52nd St                        1\n",
       "Marshfield Ave & 59th St                   1\n",
       "Name: Start Station, Length: 1682, dtype: int64"
      ]
     },
     "execution_count": 22,
     "metadata": {},
     "output_type": "execute_result"
    }
   ],
   "source": [
    "df['Start Station'].value_counts()"
   ]
  },
  {
   "cell_type": "code",
   "execution_count": 23,
   "id": "83c997e3",
   "metadata": {
    "scrolled": true
   },
   "outputs": [
    {
     "data": {
      "text/plain": [
       "Columbus Circle / Union Station         6048\n",
       "Jefferson Dr & 14th St SW               5218\n",
       "Lincoln Memorial                        5036\n",
       "Massachusetts Ave & Dupont Circle NW    4483\n",
       "Clinton St & Washington Blvd            4068\n",
       "                                        ... \n",
       "Woodlawn Ave & 75th St                     1\n",
       "Gowanus Tech Station                       1\n",
       "NYCBS Depot - PIT                          1\n",
       "NYCBS Depot BAL - DYR                      1\n",
       "Columbia Pike & S Taylor St                1\n",
       "Name: End Station, Length: 1686, dtype: int64"
      ]
     },
     "execution_count": 23,
     "metadata": {},
     "output_type": "execute_result"
    }
   ],
   "source": [
    "df['End Station'].value_counts()"
   ]
  },
  {
   "cell_type": "code",
   "execution_count": 24,
   "id": "d1098a74",
   "metadata": {},
   "outputs": [
    {
     "data": {
      "text/plain": [
       "0   2017-02-19 16:07:00\n",
       "1   2017-03-29 17:36:00\n",
       "Name: Start Time, dtype: datetime64[ns]"
      ]
     },
     "execution_count": 24,
     "metadata": {},
     "output_type": "execute_result"
    }
   ],
   "source": [
    "df['Start Time'].mode()"
   ]
  },
  {
   "cell_type": "code",
   "execution_count": 25,
   "id": "43b26e49",
   "metadata": {
    "scrolled": false
   },
   "outputs": [
    {
     "data": {
      "text/plain": [
       "washington    300000\n",
       "New York      270102\n",
       "Chicago       238948\n",
       "Name: State, dtype: int64"
      ]
     },
     "execution_count": 25,
     "metadata": {},
     "output_type": "execute_result"
    }
   ],
   "source": [
    "df['State'].value_counts()"
   ]
  },
  {
   "cell_type": "code",
   "execution_count": 26,
   "id": "b8aa61fe",
   "metadata": {
    "scrolled": true
   },
   "outputs": [
    {
     "data": {
      "text/plain": [
       "(array([238948.,      0.,      0.,      0.,      0., 270102.,      0.,\n",
       "             0.,      0., 300000.]),\n",
       " array([0. , 0.2, 0.4, 0.6, 0.8, 1. , 1.2, 1.4, 1.6, 1.8, 2. ]),\n",
       " <BarContainer object of 10 artists>)"
      ]
     },
     "execution_count": 26,
     "metadata": {},
     "output_type": "execute_result"
    },
    {
     "data": {
      "image/png": "[encoded data removed]",
      "text/plain": [
       "<Figure size 432x288 with 1 Axes>"
      ]
     },
     "metadata": {
      "needs_background": "light"
     },
     "output_type": "display_data"
    }
   ],
   "source": [
    "plt.hist(df.State)"
   ]
  },
  {
   "cell_type": "code",
   "execution_count": 110,
   "id": "c4b4d1a9",
   "metadata": {
    "scrolled": true
   },
   "outputs": [
    {
     "data": {
      "text/plain": [
       "<matplotlib.collections.PathCollection at 0x2230e4adab0>"
      ]
     },
     "execution_count": 110,
     "metadata": {},
     "output_type": "execute_result"
    },
    {
     "data": {
      "image/png": "[encoded data removed]",
      "text/plain": [
       "<Figure size 432x288 with 1 Axes>"
      ]
     },
     "metadata": {
      "needs_background": "light"
     },
     "output_type": "display_data"
    }
   ],
   "source": [
    "plt.scatter(df[\"Start Time\"], df[\"Trip Duration\"])"
   ]
  },
  {
   "cell_type": "code",
   "execution_count": 111,
   "id": "95e090f2",
   "metadata": {
    "scrolled": false
   },
   "outputs": [],
   "source": [
    "df.to_csv('BikeShare_Mod.csv')"
   ]
  }
 ],
 "metadata": {
  "kernelspec": {
   "display_name": "Python 3 (ipykernel)",
   "language": "python",
   "name": "python3"
  },
  "language_info": {
   "codemirror_mode": {
    "name": "ipython",
    "version": 3
   },
   "file_extension": ".py",
   "mimetype": "text/x-python",
   "name": "python",
   "nbconvert_exporter": "python",
   "pygments_lexer": "ipython3",
   "version": "3.10.5"
  }
 },
 "nbformat": 4,
 "nbformat_minor": 5
}
